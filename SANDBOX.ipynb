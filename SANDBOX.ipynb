{
 "cells": [
  {
   "cell_type": "markdown",
   "metadata": {},
   "source": [
    "%HTML\n",
    "<h1>SANDBOX</h1>"
   ]
  },
  {
   "cell_type": "code",
   "execution_count": 1,
   "metadata": {},
   "outputs": [],
   "source": [
    "debug = True"
   ]
  },
  {
   "cell_type": "code",
   "execution_count": 2,
   "metadata": {},
   "outputs": [],
   "source": [
    "import os\n",
    "import time"
   ]
  },
  {
   "cell_type": "code",
   "execution_count": 5,
   "metadata": {},
   "outputs": [],
   "source": [
    "class Logger:\n",
    "        def __init__(self):\n",
    "            if (not os.path.exists('logs/')):\n",
    "                os.mkdir(\"logs\")\n",
    "            \n",
    "            self.log_out = open('logs/log.out', 'a')\n",
    "            self.error_out = open('logs/error.out', 'a')\n",
    "        def debug(self, message):\n",
    "            if (debug == True):\n",
    "                output = str(time.time())+\" - \"+message\n",
    "                self.log_out = open('logs/log.out', 'a')\n",
    "                print(output)\n",
    "                self.log_out.write(output+\"\\n\")\n",
    "                self.log_out.close()\n",
    "        def out(self, message):\n",
    "            output = str(time.time())+\" - \"+message\n",
    "            self.log_out = open('logs/log.out', 'a')\n",
    "            self.log_out.write(output+\"\\n\")\n",
    "            self.log_out.close()\n",
    "        def error(self, message):\n",
    "            output = str(time.time())+\" - \"+message\n",
    "            print(output)\n",
    "            self.log_out = open('logs/log.out', 'a')\n",
    "            self.error_out.write(output+\"\\n\")\n",
    "            self.log_out.write(output+\"\\n\")\n",
    "            self.log_out.close()\n",
    "            self.error_out.close()\n",
    "        def trade(self, message):\n",
    "            output = str(time.time())+\" - \"+message\n",
    "            self.trade_out = open('logs/trade.out', 'a')\n",
    "            self.log_out = open('logs/log.out', 'a')\n",
    "            print(output)\n",
    "            self.trade_out.write(output+\"\\n\")\n",
    "            self.log_out.write(output+\"\\n\")\n",
    "            self.log_out.close()\n",
    "            self.trade_out.close()\n",
    "\n",
    "            \n",
    "log=Logger()"
   ]
  },
  {
   "cell_type": "code",
   "execution_count": 4,
   "metadata": {},
   "outputs": [
    {
     "name": "stdout",
     "output_type": "stream",
     "text": [
      "1593891557.872804 - hello\n"
     ]
    }
   ],
   "source": [
    "log.trade(\"hello\")"
   ]
  }
 ],
 "metadata": {
  "kernelspec": {
   "display_name": "Python 3",
   "language": "python",
   "name": "python3"
  },
  "language_info": {
   "codemirror_mode": {
    "name": "ipython",
    "version": 3
   },
   "file_extension": ".py",
   "mimetype": "text/x-python",
   "name": "python",
   "nbconvert_exporter": "python",
   "pygments_lexer": "ipython3",
   "version": "3.6.9"
  }
 },
 "nbformat": 4,
 "nbformat_minor": 4
}
